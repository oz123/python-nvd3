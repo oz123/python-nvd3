{
 "cells": [
  {
   "cell_type": "code",
   "execution_count": null,
   "metadata": {
    "collapsed": true,
    "run_control": {
     "breakpoint": false
    }
   },
   "outputs": [],
   "source": [
    "\"\"\"setup\"\"\"\n",
    "import nvd3\n",
    "nvd3.ipynb.initialize_javascript(use_remote=True)\n",
    "import random"
   ]
  },
  {
   "cell_type": "code",
   "execution_count": null,
   "metadata": {
    "collapsed": false,
    "run_control": {
     "breakpoint": false,
     "read_only": false
    }
   },
   "outputs": [],
   "source": [
    "\"\"\"failing test\"\"\"\n",
    "1/0\n",
    "a = 3"
   ]
  },
  {
   "cell_type": "code",
   "execution_count": null,
   "metadata": {
    "collapsed": false,
    "run_control": {
     "breakpoint": false,
     "read_only": false
    }
   },
   "outputs": [],
   "source": [
    "\"\"\"test_stackedAreaChart\"\"\"\n",
    "type = 'stackedAreaChart'\n",
    "chart2 = nvd3.stackedAreaChart(name=type,height=450,width=500, \n",
    "                               use_interactive_guideline=True)\n",
    "nb_element = 50\n",
    "xdata = range(nb_element)\n",
    "ydata = [i * random.randint(1, 10) for i in range(nb_element)]\n",
    "ydata2 = [x * 2 for x in ydata]\n",
    "ydata3 = [x * 5 for x in ydata]\n",
    "chart2.add_serie(name=\"serie 1\", y=ydata, x=xdata)\n",
    "chart2.add_serie(name=\"serie 2\", y=ydata2, x=xdata)\n",
    "chart2.add_serie(name=\"serie 3\", y=ydata3, x=xdata)\n",
    "chart2"
   ]
  },
  {
   "cell_type": "code",
   "execution_count": null,
   "metadata": {
    "collapsed": false,
    "run_control": {
     "breakpoint": false
    }
   },
   "outputs": [],
   "source": [
    "\"\"\"test_cumulativeLineChart\"\"\"\n",
    "\n",
    "from nvd3 import cumulativeLineChart\n",
    "import random\n",
    "import datetime\n",
    "import time\n",
    "\n",
    "\n",
    "start_time = int(time.mktime(datetime.datetime(2012, 6, 1).timetuple()) * 1000)\n",
    "nb_element = 100\n",
    "\n",
    "# Open File for test\n",
    "output_file = open('test_cumulativeLineChart.html', 'w')\n",
    "\n",
    "type = \"f\"\n",
    "chart = cumulativeLineChart(name=type, height=350, x_is_date=True)\n",
    "chart.set_containerheader(\"\\n\\n<h2>\" + type + \"</h2>\\n\\n\")\n",
    "\n",
    "xdata = list(range(nb_element))\n",
    "xdata = [start_time + x * 1000000000 for x in xdata]\n",
    "ydata = [i + random.randint(1, 10) for i in range(nb_element)]\n",
    "ydata2 = [x * 2 for x in ydata]\n",
    "\n",
    "extra_serie = {\"tooltip\": {\"y_start\": \"\", \"y_end\": \" Calls\"}}\n",
    "chart.add_serie(name=\"Count\", y=ydata, x=xdata, extra=extra_serie)\n",
    "extra_serie = {\"tooltip\": {\"y_start\": \"\", \"y_end\": \" Min\"}}\n",
    "chart.add_serie(name=\"Duration\", y=ydata2, x=xdata, extra=extra_serie)\n",
    "\n",
    "chart\n"
   ]
  }
 ],
 "metadata": {
  "kernelspec": {
   "display_name": "Python 2",
   "language": "python",
   "name": "python2"
  },
  "language_info": {
   "codemirror_mode": {
    "name": "ipython",
    "version": 2
   },
   "file_extension": ".py",
   "mimetype": "text/x-python",
   "name": "python",
   "nbconvert_exporter": "python",
   "pygments_lexer": "ipython2",
   "version": "2.7.3"
  }
 },
 "nbformat": 4,
 "nbformat_minor": 0
}
